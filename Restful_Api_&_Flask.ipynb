{
  "cells": [
    {
      "cell_type": "markdown",
      "metadata": {
        "id": "582ZabwIYXJV"
      },
      "source": [
        "# Restful API & Flask"
      ]
    },
    {
      "cell_type": "markdown",
      "metadata": {
        "id": "cSwRur0EYpvz"
      },
      "source": [
        "### Q1. What is a RESTful API?\n",
        "\n",
        "- A RESTful API (Representational State Transfer Application Programming Interface) is an architectural style for building web services that adhere to the principles of REST. It utilizes standard HTTP methods (GET, POST, PUT, DELETE) to interact with resources identified by unique URLs (Uniform Resource Locators).\n",
        "\n",
        "### Q2. Explain the concept of API specification.\n",
        "\n",
        "- An API specification is a formal, detailed document or blueprint that describes the functionality and expected behavior of an Application Programming Interface (API). It serves as a contract between API providers and consumers, outlining how the API can be used, what data it exchanges, and the rules governing its interactions.\n",
        "\n",
        "### Q3. What is Flask, and why is it popular for building APIs?\n",
        "\n",
        "- Flask is a micro web framework written in Python. It is designed to be lightweight and flexible, providing the essential tools for web development without imposing strict architectural patterns or including extensive built-in features like an Object Relational Mapper (ORM) or form validation. This minimalist approach allows developers to choose the components and libraries that best suit their specific project needs.\n",
        "\n",
        "### Q4. What is routing in Flask?\n",
        "\n",
        "- Routing in Flask is the mechanism that maps specific URL patterns to corresponding Python functions, known as \"view functions,\" within a web application. When a user requests a particular URL, Flask's routing system determines which view function should be executed to handle that request and generate a response.\n",
        "\n",
        "### Q5. How do you create a simple Flask application?\n",
        "\n",
        "- Create a new directory for your project: mkdir my_flask_app\n",
        "Navigate into the directory: cd my_flask_app\n",
        "(Optional but recommended) Create and activate a Python virtual environment:\n",
        "python -m venv venv\n",
        "source venv/bin/activate (Linux/macOS) or venv\\Scripts\\activate (Windows)\n",
        "Install Flask: pip install Flask\n",
        "\n",
        "### Q6. What are HTTP methods used in RESTful APIs?\n",
        "\n",
        "- RESTful APIs leverage standard HTTP methods to perform operations on resources, mapping directly to the common CRUD (Create, Read, Update, Delete) operations. The most commonly used HTTP methods in RESTful APIs are:\n",
        "(GET, POST, PUT, PATCH, DELETE etc.)\n",
        "\n",
        "### Q7. What is the purpose of the @app.route() decorator in Flask?\n",
        "\n",
        "- The @app.route() decorator in Flask serves the purpose of routing incoming web requests to specific Python functions within a Flask application. It acts as a bridge between a URL path and the code that should be executed when that URL is accessed by a client (e.g., a web browser).\n",
        "\n",
        "### Q8. What is the difference between GET and POST HTTP methods?\n",
        "\n",
        "- The GET and POST methods are two of the most common HTTP methods used for communication between a client (e.g., a web browser) and a server. They differ primarily in their purpose, how they transmit data, and their implications for security and caching.\n",
        "\n",
        "### Q9.  How do you handle errors in Flask APIs?\n",
        "\n",
        "- Along with HTTP status codes, include descriptive error messages in your API responses. Error messages should be clear, concise, and provide actionable information to help users understand the problem and how to fix it. Avoid technical jargon and use language that is understandable to your target audience.\n",
        "\n",
        "### Q10. How do you connect Flask to a SQL database?\n",
        "\n",
        "- Connecting Flask to a SQL database is commonly achieved using an Object-Relational Mapper (ORM) like Flask-SQLAlchemy, or by using a database connector library directly. Flask-SQLAlchemy is recommended for its ease of use and integration with Flask.\n",
        "\n",
        "### Q11. What is the role of Flask-SQLAlchemy?\n",
        "\n",
        "- providing you tools and methods to interact with your database in your Flask applications through SQLAlchemy.\n",
        "\n",
        "### Q12. What are Flask blueprints, and how are they useful?\n",
        "\n",
        "- Flask Blueprints are a way to organize and structure a Flask application by breaking it into reusable components. Instead of defining all routes and logic in a single file (which can become messy as the app grows), blueprints allow you to group related views, templates, static files, and other functionality together.\n",
        "\n",
        "### Q13. What is the purpose of Flask's request object?\n",
        "\n",
        "- The purpose of Flask's request object is to provide access to incoming HTTP request data within a Flask application. When a client sends an HTTP request to a Flask server, Flask automatically creates a request object that encapsulates all the information related to that specific request.\n",
        "\n",
        "### Q14. How do you create a RESTful API endpoint using Flask?\n",
        "\n",
        "- Creating a RESTful API endpoint using Flask involves defining routes that correspond to specific HTTP methods (GET, POST, PUT, DELETE) and handling requests and responses in JSON format.\n",
        "\n",
        "### Q15. What is the purpose of Flask's jsonify() function?\n",
        "\n",
        "- The purpose of Flask's jsonify() function is to convert Python data structures into a JSON response and return it from a Flask view function in a safe, standard-compliant way.\n",
        "\n",
        "### Q16. Explain Flask’s url_for() function.\n",
        "\n",
        "- Flask's url_for() function dynamically generates a URL for a given endpoint (typically a view function) within a Flask application. This function is crucial for building robust and maintainable Flask applications because it prevents hardcoding URLs, making the application more flexible and easier to modify.\n",
        "\n",
        "### Q17. How does Flask handle static files (CSS, JavaScript, etc.)?\n",
        "\n",
        "- You need to create a folder called static in your application's root directory to store all your static files. Then you can use relative file paths to reference these static files, but it is best practice to use the url_for() function to create absolute URL references to static files.\n",
        "\n",
        "### Q18. What is an API specification, and how does it help in building a Flask API?\n",
        "\n",
        "- An API specification is a formal, detailed description of an API's functionality, structure, and behavior. It acts as a blueprint, outlining elements such as endpoints, request and response formats, data models, authentication methods, and error handling. The OpenAPI Specification (OAS) is a prominent example of an API specification standard.\n",
        "\n",
        "### Q19. What are HTTP status codes, and why are they important in a Flask API?\n",
        "\n",
        "- These status codes (also called response status codes) serve as a means of communication between the server and the internet browser and there are multiple code classes based on the type of information they are communicating.\n",
        "\n",
        "### Q20. How do you handle POST requests in Flask?\n",
        "\n",
        "- Creating a route with methods=['POST']\n",
        "\n",
        "  Accessing the data sent in the request using request.form, request.json, or request.data\n",
        "\n",
        "### Q21.  How would you secure a Flask API?\n",
        "\n",
        "- Securing a Python Flask API with JWTs\n",
        "Overview.\n",
        "\n",
        "1. Create a Python API.\n",
        "2. Integrate the Security Library.\n",
        "3. Validate JWTs.\n",
        "4. Use Scopes and Claims.\n",
        "5. Test the API.\n",
        "6. Other Library Options.\n",
        "\n",
        "### Q22. What is the significance of the Flask-RESTful extension?\n",
        "\n",
        "- Flask-RESTful is a Flask extension that simplifies the process of building REST APIs. It offers a structured way to define resources, handle requests, and format responses, making API development more efficient and organized. By providing features like automatic request parsing, response formatting, and error handling, it reduces boilerplate code and encourages best practices.\n",
        "\n",
        "### Q23. What is the role of Flask’s session object?\n",
        "\n",
        "- In Flask, the session object provides a mechanism for storing user-specific data across multiple requests within a web application. It allows you to maintain state information between different interactions with the application, such as user authentication, preferences, or shopping cart contents. This is crucial for building interactive web experiences where user data needs to persist beyond a single page load.\n",
        "\n",
        "\n",
        "# PRACTICAL QUESTION AND ANSWER\n",
        "\n",
        "\n",
        "\n",
        "\n"
      ]
    },
    {
      "cell_type": "markdown",
      "metadata": {
        "id": "XJLLDqhgsK0S"
      },
      "source": [
        "# Q1. How do you create a basic Flask application?"
      ]
    },
    {
      "cell_type": "code",
      "source": [
        "!pip install flask-ngrok\n",
        "from flask import Flask\n",
        "from flask_ngrok import run_with_ngrok\n",
        "\n",
        "app = Flask(__name__)\n",
        "run_with_ngrok(app)  # Starts ngrok when app is run\n",
        "\n",
        "@app.route(\"/\")\n",
        "def home():\n",
        "    return \"Hello from Flask in Colab!\"\n",
        "\n",
        "app.run()\n"
      ],
      "metadata": {
        "id": "ru3oqMxZBMTR"
      },
      "execution_count": null,
      "outputs": []
    },
    {
      "cell_type": "markdown",
      "metadata": {
        "id": "Y8K-QsiyFJ2r"
      },
      "source": [
        "# Q2. How do you serve static files like images or CSS in Flask?"
      ]
    },
    {
      "cell_type": "code",
      "execution_count": 4,
      "metadata": {
        "id": "3azLZEeCFjhS",
        "colab": {
          "base_uri": "https://localhost:8080/"
        },
        "outputId": "18b50e57-696e-4c85-9943-56160573e97e"
      },
      "outputs": [
        {
          "output_type": "stream",
          "name": "stdout",
          "text": [
            " * Serving Flask app '__main__'\n",
            " * Debug mode: on\n"
          ]
        },
        {
          "output_type": "stream",
          "name": "stderr",
          "text": [
            "INFO:werkzeug:\u001b[31m\u001b[1mWARNING: This is a development server. Do not use it in a production deployment. Use a production WSGI server instead.\u001b[0m\n",
            " * Running on http://127.0.0.1:5000\n",
            "INFO:werkzeug:\u001b[33mPress CTRL+C to quit\u001b[0m\n",
            "INFO:werkzeug: * Restarting with stat\n"
          ]
        }
      ],
      "source": [
        "from flask import Flask\n",
        "from flask import render_template\n",
        "\n",
        "# creates a Flask application\n",
        "app = Flask(__name__)\n",
        "\n",
        "\n",
        "@app.route(\"/\")\n",
        "def hello():\n",
        "    message = \"Hello, World\"\n",
        "    return render_template('index.html', message=message)\n",
        "\n",
        "\n",
        "@app.route(\"/video\")\n",
        "def serve_video():\n",
        "    message = \"Video Route\"\n",
        "    return render_template('video.html', message=message)\n",
        "\n",
        "\n",
        "@app.route(\"/audio\")\n",
        "def serve_audio():\n",
        "    message = \"Audio Route\"\n",
        "    return render_template('audio.html', message=message)\n",
        "\n",
        "\n",
        "@app.route(\"/image\")\n",
        "def serve_image():\n",
        "    message = \"Image Route\"\n",
        "    return render_template('image.html', message=message)\n",
        "\n",
        "\n",
        "# run the application\n",
        "if __name__ == \"__main__\":\n",
        "    app.run(debug=True)"
      ]
    },
    {
      "cell_type": "markdown",
      "metadata": {
        "id": "rtoSUH6aKsa2"
      },
      "source": [
        "# Q3. How do you define different routes with different HTTP methods in Flask?"
      ]
    },
    {
      "cell_type": "code",
      "execution_count": 5,
      "metadata": {
        "id": "81AnoMkZK6Bf",
        "colab": {
          "base_uri": "https://localhost:8080/",
          "height": 106
        },
        "outputId": "d653b5ca-25a1-47f7-c572-f5140ed2ef2e"
      },
      "outputs": [
        {
          "output_type": "error",
          "ename": "SyntaxError",
          "evalue": "invalid syntax (ipython-input-5-1865574657.py, line 17)",
          "traceback": [
            "\u001b[0;36m  File \u001b[0;32m\"/tmp/ipython-input-5-1865574657.py\"\u001b[0;36m, line \u001b[0;32m17\u001b[0m\n\u001b[0;31m    @app.from flask import Flask, request\u001b[0m\n\u001b[0m         ^\u001b[0m\n\u001b[0;31mSyntaxError\u001b[0m\u001b[0;31m:\u001b[0m invalid syntax\n"
          ]
        }
      ],
      "source": [
        "from flask import Flask, request\n",
        "\n",
        "app = Flask(__name__)\n",
        "\n",
        "# GET route\n",
        "@app.route('/hello', methods=['GET'])\n",
        "def hello():\n",
        "    return \"Hello, this is a GET request!\"\n",
        "\n",
        "# POST route\n",
        "@app.route('/submit', methods=['POST'])\n",
        "def submit():\n",
        "    data = request.form.get('name')  # Assuming form data has a field 'name'\n",
        "    return f\"Hello {data}, you sent a POST request!\"\n",
        "\n",
        "# Route that handles both GET and POST\n",
        "@app.from flask import Flask, request\n",
        "\n",
        "app = Flask(__name__)\n",
        "\n",
        "# GET route\n",
        "@app.route('/hello', methods=['GET'])\n",
        "def hello():\n",
        "    return \"Hello, this is a GET request!\"\n",
        "\n",
        "# POST route\n",
        "@app.route('/submit', methods=['POST'])\n",
        "def submit():\n",
        "    data = request.form.get('name')  # Assuming form data has a field 'name'\n",
        "    return f\"Hello {data}, you sent a POST request!\"\n",
        "\n",
        "# Route that handles both GET and POST\n",
        "@app.route('/form', methods=['GET', 'POST'])\n",
        "def form_handler():\n",
        "    if request.method == 'GET':\n",
        "        return \"Send me some data via POST!\"\n",
        "    elif request.method == 'POST':\n",
        "        name = request.form.get('name')\n",
        "        return f\"Received POST data: {name}\"\n",
        "\n",
        "if __name__ == '__main__':\n",
        "    app.run(debug=True)\n",
        "\n"
      ]
    },
    {
      "cell_type": "markdown",
      "metadata": {
        "id": "wF3XL3CyP8Kd"
      },
      "source": [
        "# Q4.  How do you render HTML templates in Flask?\n"
      ]
    },
    {
      "cell_type": "code",
      "execution_count": null,
      "metadata": {
        "id": "czVU2VnEQHCa"
      },
      "outputs": [],
      "source": [
        "<!DOCTYPE html>\n",
        "<html>\n",
        "<head>\n",
        "    <title>Flask Page</title>\n",
        "</head>\n",
        "<body>\n",
        "    <h1>Hello, {{ name }}!</h1>\n",
        "</body>\n",
        "</html>\n",
        "\n",
        "from flask import Flask, render_template\n",
        "\n",
        "app = Flask(__name__)\n",
        "\n",
        "@app.route('/')\n",
        "def home():\n",
        "    return render_template('index.html', name='Prince')\n",
        "\n",
        "if __name__ == '__main__':\n",
        "    app.run(debug=True)\n"
      ]
    },
    {
      "cell_type": "markdown",
      "metadata": {
        "id": "1WzVdF_RTAQt"
      },
      "source": [
        "# Q5.  How can you generate URLs for routes in Flask using url_for?\n"
      ]
    },
    {
      "cell_type": "code",
      "execution_count": null,
      "metadata": {
        "id": "S9BLdQvRTHmG"
      },
      "outputs": [],
      "source": [
        "from flask import Flask, url_for\n",
        "\n",
        "app = Flask(__name__)\n",
        "\n",
        "@app.route('/')\n",
        "def home():\n",
        "    return 'Home Page'\n",
        "\n",
        "@app.route('/about')\n",
        "def about():\n",
        "    return 'About Page'\n",
        "\n",
        "@app.route('/go-to-about')\n",
        "def go_to_about():\n",
        "    about_url = url_for('about')  # Generates URL for 'about' route\n",
        "    return f'<a href=\"{about_url}\">Go to About Page</a>'\n",
        "\n",
        "if __name__ == '__main__':\n",
        "    app.run(debug=True)\n"
      ]
    },
    {
      "cell_type": "markdown",
      "metadata": {
        "id": "XwQ73iFnUBb1"
      },
      "source": [
        "# Q6. How do you handle forms in Flask?\n"
      ]
    },
    {
      "cell_type": "code",
      "execution_count": null,
      "metadata": {
        "id": "lz-T92AFUIb_"
      },
      "outputs": [],
      "source": [
        "<!-- templates/form.html -->\n",
        "<!DOCTYPE html>\n",
        "<html>\n",
        "<head>\n",
        "    <title>Form Example</title>\n",
        "</head>\n",
        "<body>\n",
        "    <h2>Enter your name</h2>\n",
        "    <form method=\"POST\">\n",
        "        <input type=\"text\" name=\"username\" required>\n",
        "        <input type=\"submit\" value=\"Submit\">\n",
        "    </form>\n",
        "</body>\n",
        "</html>\n",
        "\n",
        "from flask import Flask, render_template, request\n",
        "\n",
        "app = Flask(__name__)\n",
        "\n",
        "@app.route('/', methods=['GET', 'POST'])\n",
        "def form():\n",
        "    if request.method == 'POST':\n",
        "        username = request.form['username']  # Get form data\n",
        "        return f'Hello, {username}!'\n",
        "    return render_template('form.html')\n",
        "\n",
        "if __name__ == '__main__':\n",
        "    app.run(debug=True)\n"
      ]
    },
    {
      "cell_type": "markdown",
      "metadata": {
        "id": "Mpb0rXanUq_F"
      },
      "source": [
        "# Q7.  How can you validate form data in Flask?"
      ]
    },
    {
      "cell_type": "code",
      "execution_count": null,
      "metadata": {
        "id": "ezntfkntUyeA"
      },
      "outputs": [],
      "source": [
        "from flask import Flask, request, render_template\n",
        "\n",
        "app = Flask(__name__)\n",
        "\n",
        "@app.route('/', methods=['GET', 'POST'])\n",
        "def register():\n",
        "    error = None\n",
        "    if request.method == 'POST':\n",
        "        username = request.form.get('username')\n",
        "        if not username:\n",
        "            error = \"Username is required.\"\n",
        "        elif len(username) < 3:\n",
        "            error = \"Username must be at least 3 characters long.\"\n",
        "        else:\n",
        "            return f\"Welcome, {username}!\"\n"
      ]
    },
    {
      "cell_type": "markdown",
      "metadata": {
        "id": "5j9B-R15VQzo"
      },
      "source": [
        "# Q8. How do you manage sessions in Flask?"
      ]
    },
    {
      "cell_type": "code",
      "execution_count": null,
      "metadata": {
        "id": "odN83Y32VjXN"
      },
      "outputs": [],
      "source": [
        "from flask import Flask, session, redirect, url_for, request\n",
        "\n",
        "app = Flask(__name__)\n",
        "app.secret_key = 'your_secret_key_here'  # Keep this secret!\n",
        "@app.route('/login', methods=['GET', 'POST'])\n",
        "def login():\n",
        "    if request.method == 'POST':\n",
        "        session['username'] = request.form['username']  # Store data\n",
        "        return redirect(url_for('profile'))\n",
        "    return '''\n",
        "        <form method=\"post\">\n",
        "            <input type=\"text\" name=\"username\">\n",
        "            <input type=\"submit\" value=\"Login\">\n",
        "        </form>\n",
        "    '''\n",
        "\n",
        "@app.route('/profile')\n",
        "def profile():\n",
        "    if 'username' in session:\n",
        "        return f\"Logged in as {session['username']}\"\n",
        "    return \"You are not logged in.\"\n",
        "\n",
        "@app.route('/logout')\n",
        "def logout():\n",
        "    session.pop('username', None)  # Remove session data\n",
        "    return redirect(url_for('login'))\n"
      ]
    },
    {
      "cell_type": "markdown",
      "metadata": {
        "id": "I1a_748uWFkI"
      },
      "source": [
        "# Q9. How do you redirect to a different route in Flask?"
      ]
    },
    {
      "cell_type": "code",
      "execution_count": null,
      "metadata": {
        "id": "2vZoW1r2WMiU"
      },
      "outputs": [],
      "source": [
        "from flask import redirect, url_for\n",
        "from flask import Flask, redirect, url_for\n",
        "\n",
        "app = Flask(__name__)\n",
        "\n",
        "@app.route('/')\n",
        "def home():\n",
        "    return 'This is the Home Page'\n",
        "\n",
        "@app.route('/login')\n",
        "def login():\n",
        "    return 'This is the Login Page'\n",
        "\n",
        "@app.route('/go-to-login')\n",
        "def go_to_login():\n",
        "    return redirect(url_for('login'))  # Redirects to /login\n"
      ]
    },
    {
      "cell_type": "markdown",
      "metadata": {
        "id": "f_kWuXOBWb3B"
      },
      "source": [
        "# Q10.  How do you handle errors in Flask (e.g., 404)?"
      ]
    },
    {
      "cell_type": "code",
      "execution_count": null,
      "metadata": {
        "id": "7dzVS-JkWifD"
      },
      "outputs": [],
      "source": [
        "from flask import Flask, render_template\n",
        "\n",
        "app = Flask(__name__)\n",
        "\n",
        "@app.route('/')\n",
        "def home():\n",
        "    return 'Welcome to the Home Page'\n",
        "\n",
        "# Custom 404 error handler\n",
        "@app.errorhandler(404)\n",
        "def page_not_found(error):\n",
        "    return render_template('404.html'), 404\n"
      ]
    },
    {
      "cell_type": "markdown",
      "metadata": {
        "id": "KfRLrlZSXAQM"
      },
      "source": [
        "# Q11. How do you structure a Flask app using Blueprints?"
      ]
    },
    {
      "cell_type": "code",
      "source": [
        "# Install flask-ngrok for Colab usage\n",
        "!pip install flask-ngrok\n",
        "\n",
        "# Setup Flask app with blueprints\n",
        "from flask import Flask, Blueprint\n",
        "from flask_ngrok import run_with_ngrok\n",
        "\n",
        "# Define Blueprint (like app/main/routes.py)\n",
        "main = Blueprint('main', __name__)\n",
        "\n",
        "@main.route('/')\n",
        "def home():\n",
        "    return \"Hello from Blueprint in Colab!\"\n",
        "\n",
        "@main.route('/about')\n",
        "def about():\n",
        "    return \"This is the About page from the blueprint!\"\n",
        "\n",
        "# Factory function (like app/__init__.py)\n",
        "def create_app():\n",
        "    app = Flask(__name__)\n",
        "    app.register_blueprint(main)\n",
        "    return app\n",
        "\n",
        "# run.py (start app using ngrok)\n",
        "app = create_app()\n",
        "run_with_ngrok(app)  # This opens a public URL via ngrok\n",
        "app.run()\n"
      ],
      "metadata": {
        "id": "A2FwYK7NE8-e"
      },
      "execution_count": null,
      "outputs": []
    },
    {
      "cell_type": "markdown",
      "source": [
        "# Q12. How do you define a custom Jinja filter in Flask?\n"
      ],
      "metadata": {
        "id": "2UrXutc17407"
      }
    },
    {
      "cell_type": "code",
      "source": [
        "from flask import Flask, render_template\n",
        "\n",
        "app = Flask(__name__)\n",
        "\n",
        "# Define a custom filter function\n",
        "def reverse_string(s):\n",
        "  return s[::-1]\n",
        "\n",
        "# Register the custom filter\n",
        "app.jinja_env.filters['reverse'] = reverse_string\n",
        "\n",
        "@app.route('/')\n",
        "def index():\n",
        "  message = \"Hello Flask!\"\n",
        "  return render_template('index.html', message=message)\n",
        "\n",
        "if __name__ == '__main__':\n",
        "  app.run(debug=True)\n"
      ],
      "metadata": {
        "id": "_Id6ozSh8FWm"
      },
      "execution_count": null,
      "outputs": []
    },
    {
      "cell_type": "markdown",
      "source": [
        "# Q13. How can you redirect with query parameters in Flask?"
      ],
      "metadata": {
        "id": "xZ423Nub5gjY"
      }
    },
    {
      "cell_type": "code",
      "source": [
        "# Step 1: Install required package\n",
        "!pip install flask-ngrok\n",
        "\n",
        "# Step 2: Create Flask app with redirect and query parameters\n",
        "from flask import Flask, redirect, url_for, request\n",
        "from flask_ngrok import run_with_ngrok\n",
        "\n",
        "app = Flask(__name__)\n",
        "run_with_ngrok(app)  # Enables public URL via ngrok\n",
        "\n",
        "@app.route('/')\n",
        "def home():\n",
        "    # Redirect to /welcome with query parameters\n",
        "    return redirect(url_for('welcome', name='Prince', age=25))\n",
        "\n",
        "@app.route('/welcome')\n",
        "def welcome():\n",
        "    # Access query parameters from URL\n",
        "    name = request.args.get('name')\n",
        "    age = request.args.get('age')\n",
        "    return f'Welcome {name}! You are {age} years old.'\n",
        "\n",
        "# Start Flask app\n",
        "app.run()\n"
      ],
      "metadata": {
        "colab": {
          "base_uri": "https://localhost:8080/"
        },
        "id": "b5yJDXK-6kgo",
        "outputId": "b93692d1-918a-497e-a738-1b5df0f6a45b"
      },
      "execution_count": 2,
      "outputs": [
        {
          "output_type": "stream",
          "name": "stdout",
          "text": [
            "Requirement already satisfied: flask-ngrok in /usr/local/lib/python3.11/dist-packages (0.0.25)\n",
            "Requirement already satisfied: Flask>=0.8 in /usr/local/lib/python3.11/dist-packages (from flask-ngrok) (3.1.1)\n",
            "Requirement already satisfied: requests in /usr/local/lib/python3.11/dist-packages (from flask-ngrok) (2.32.3)\n",
            "Requirement already satisfied: blinker>=1.9.0 in /usr/local/lib/python3.11/dist-packages (from Flask>=0.8->flask-ngrok) (1.9.0)\n",
            "Requirement already satisfied: click>=8.1.3 in /usr/local/lib/python3.11/dist-packages (from Flask>=0.8->flask-ngrok) (8.2.1)\n",
            "Requirement already satisfied: itsdangerous>=2.2.0 in /usr/local/lib/python3.11/dist-packages (from Flask>=0.8->flask-ngrok) (2.2.0)\n",
            "Requirement already satisfied: jinja2>=3.1.2 in /usr/local/lib/python3.11/dist-packages (from Flask>=0.8->flask-ngrok) (3.1.6)\n",
            "Requirement already satisfied: markupsafe>=2.1.1 in /usr/local/lib/python3.11/dist-packages (from Flask>=0.8->flask-ngrok) (3.0.2)\n",
            "Requirement already satisfied: werkzeug>=3.1.0 in /usr/local/lib/python3.11/dist-packages (from Flask>=0.8->flask-ngrok) (3.1.3)\n",
            "Requirement already satisfied: charset-normalizer<4,>=2 in /usr/local/lib/python3.11/dist-packages (from requests->flask-ngrok) (3.4.2)\n",
            "Requirement already satisfied: idna<4,>=2.5 in /usr/local/lib/python3.11/dist-packages (from requests->flask-ngrok) (3.10)\n",
            "Requirement already satisfied: urllib3<3,>=1.21.1 in /usr/local/lib/python3.11/dist-packages (from requests->flask-ngrok) (2.5.0)\n",
            "Requirement already satisfied: certifi>=2017.4.17 in /usr/local/lib/python3.11/dist-packages (from requests->flask-ngrok) (2025.7.14)\n",
            " * Serving Flask app '__main__'\n",
            " * Debug mode: off\n"
          ]
        },
        {
          "output_type": "stream",
          "name": "stderr",
          "text": [
            "INFO:werkzeug:\u001b[31m\u001b[1mWARNING: This is a development server. Do not use it in a production deployment. Use a production WSGI server instead.\u001b[0m\n",
            " * Running on http://127.0.0.1:5000\n",
            "INFO:werkzeug:\u001b[33mPress CTRL+C to quit\u001b[0m\n",
            "Exception in thread Thread-9:\n",
            "Traceback (most recent call last):\n",
            "  File \"/usr/local/lib/python3.11/dist-packages/urllib3/connection.py\", line 198, in _new_conn\n",
            "    sock = connection.create_connection(\n",
            "           ^^^^^^^^^^^^^^^^^^^^^^^^^^^^^\n",
            "  File \"/usr/local/lib/python3.11/dist-packages/urllib3/util/connection.py\", line 85, in create_connection\n",
            "    raise err\n",
            "  File \"/usr/local/lib/python3.11/dist-packages/urllib3/util/connection.py\", line 73, in create_connection\n",
            "    sock.connect(sa)\n",
            "ConnectionRefusedError: [Errno 111] Connection refused\n",
            "\n",
            "The above exception was the direct cause of the following exception:\n",
            "\n",
            "Traceback (most recent call last):\n",
            "  File \"/usr/local/lib/python3.11/dist-packages/urllib3/connectionpool.py\", line 787, in urlopen\n",
            "    response = self._make_request(\n",
            "               ^^^^^^^^^^^^^^^^^^^\n",
            "  File \"/usr/local/lib/python3.11/dist-packages/urllib3/connectionpool.py\", line 493, in _make_request\n",
            "    conn.request(\n",
            "  File \"/usr/local/lib/python3.11/dist-packages/urllib3/connection.py\", line 494, in request\n",
            "    self.endheaders()\n",
            "  File \"/usr/lib/python3.11/http/client.py\", line 1298, in endheaders\n",
            "    self._send_output(message_body, encode_chunked=encode_chunked)\n",
            "  File \"/usr/lib/python3.11/http/client.py\", line 1058, in _send_output\n",
            "    self.send(msg)\n",
            "  File \"/usr/lib/python3.11/http/client.py\", line 996, in send\n",
            "    self.connect()\n",
            "  File \"/usr/local/lib/python3.11/dist-packages/urllib3/connection.py\", line 325, in connect\n",
            "    self.sock = self._new_conn()\n",
            "                ^^^^^^^^^^^^^^^^\n",
            "  File \"/usr/local/lib/python3.11/dist-packages/urllib3/connection.py\", line 213, in _new_conn\n",
            "    raise NewConnectionError(\n",
            "urllib3.exceptions.NewConnectionError: <urllib3.connection.HTTPConnection object at 0x7bae8f373310>: Failed to establish a new connection: [Errno 111] Connection refused\n",
            "\n",
            "The above exception was the direct cause of the following exception:\n",
            "\n",
            "Traceback (most recent call last):\n",
            "  File \"/usr/local/lib/python3.11/dist-packages/requests/adapters.py\", line 667, in send\n",
            "    resp = conn.urlopen(\n",
            "           ^^^^^^^^^^^^^\n",
            "  File \"/usr/local/lib/python3.11/dist-packages/urllib3/connectionpool.py\", line 841, in urlopen\n",
            "    retries = retries.increment(\n",
            "              ^^^^^^^^^^^^^^^^^^\n",
            "  File \"/usr/local/lib/python3.11/dist-packages/urllib3/util/retry.py\", line 519, in increment\n",
            "    raise MaxRetryError(_pool, url, reason) from reason  # type: ignore[arg-type]\n",
            "    ^^^^^^^^^^^^^^^^^^^^^^^^^^^^^^^^^^^^^^^^^^^^^^^^^^^\n",
            "urllib3.exceptions.MaxRetryError: HTTPConnectionPool(host='localhost', port=4040): Max retries exceeded with url: /api/tunnels (Caused by NewConnectionError('<urllib3.connection.HTTPConnection object at 0x7bae8f373310>: Failed to establish a new connection: [Errno 111] Connection refused'))\n",
            "\n",
            "During handling of the above exception, another exception occurred:\n",
            "\n",
            "Traceback (most recent call last):\n",
            "  File \"/usr/lib/python3.11/threading.py\", line 1045, in _bootstrap_inner\n",
            "    self.run()\n",
            "  File \"/usr/lib/python3.11/threading.py\", line 1401, in run\n",
            "    self.function(*self.args, **self.kwargs)\n",
            "  File \"/usr/local/lib/python3.11/dist-packages/flask_ngrok.py\", line 70, in start_ngrok\n",
            "    ngrok_address = _run_ngrok()\n",
            "                    ^^^^^^^^^^^^\n",
            "  File \"/usr/local/lib/python3.11/dist-packages/flask_ngrok.py\", line 35, in _run_ngrok\n",
            "    tunnel_url = requests.get(localhost_url).text  # Get the tunnel information\n",
            "                 ^^^^^^^^^^^^^^^^^^^^^^^^^^^\n",
            "  File \"/usr/local/lib/python3.11/dist-packages/requests/api.py\", line 73, in get\n",
            "    return request(\"get\", url, params=params, **kwargs)\n",
            "           ^^^^^^^^^^^^^^^^^^^^^^^^^^^^^^^^^^^^^^^^^^^^\n",
            "  File \"/usr/local/lib/python3.11/dist-packages/requests/api.py\", line 59, in request\n",
            "    return session.request(method=method, url=url, **kwargs)\n",
            "           ^^^^^^^^^^^^^^^^^^^^^^^^^^^^^^^^^^^^^^^^^^^^^^^^^\n",
            "  File \"/usr/local/lib/python3.11/dist-packages/requests/sessions.py\", line 589, in request\n",
            "    resp = self.send(prep, **send_kwargs)\n",
            "           ^^^^^^^^^^^^^^^^^^^^^^^^^^^^^^\n",
            "  File \"/usr/local/lib/python3.11/dist-packages/requests/sessions.py\", line 703, in send\n",
            "    r = adapter.send(request, **kwargs)\n",
            "        ^^^^^^^^^^^^^^^^^^^^^^^^^^^^^^^\n",
            "  File \"/usr/local/lib/python3.11/dist-packages/requests/adapters.py\", line 700, in send\n",
            "    raise ConnectionError(e, request=request)\n",
            "requests.exceptions.ConnectionError: HTTPConnectionPool(host='localhost', port=4040): Max retries exceeded with url: /api/tunnels (Caused by NewConnectionError('<urllib3.connection.HTTPConnection object at 0x7bae8f373310>: Failed to establish a new connection: [Errno 111] Connection refused'))\n"
          ]
        }
      ]
    },
    {
      "cell_type": "markdown",
      "source": [
        "# Q14.  How do you return JSON responses in Flask?"
      ],
      "metadata": {
        "id": "12fKFuxV7LxQ"
      }
    },
    {
      "cell_type": "code",
      "source": [
        "!pip install flask-ngrok\n",
        "\n",
        "from flask import Flask, jsonify\n",
        "from flask_ngrok import run_with_ngrok\n",
        "\n",
        "app = Flask(__name__)\n",
        "run_with_ngrok(app)\n",
        "\n",
        "@app.route('/api/data')\n",
        "def get_data():\n",
        "    data = {\n",
        "        'name': 'Prince',\n",
        "        'age': 25,\n",
        "        'status': 'active'\n",
        "    }\n",
        "    return jsonify(data)\n",
        "\n",
        "app.run()\n"
      ],
      "metadata": {
        "id": "GYcvmeS37Vpd"
      },
      "execution_count": null,
      "outputs": []
    },
    {
      "cell_type": "markdown",
      "source": [
        "# Q15.  How do you capture URL parameters in Flask?"
      ],
      "metadata": {
        "id": "uWhNkVn58G5x"
      }
    },
    {
      "cell_type": "code",
      "source": [
        "!pip install flask-ngrok\n",
        "\n",
        "from flask import Flask\n",
        "from flask_ngrok import run_with_ngrok\n",
        "\n",
        "app = Flask(__name__)\n",
        "run_with_ngrok(app)\n",
        "\n",
        "@app.route('/user/<username>')\n",
        "def show_user(username):\n",
        "    return f'Hello, {username}!'\n",
        "\n",
        "app.run()\n"
      ],
      "metadata": {
        "colab": {
          "base_uri": "https://localhost:8080/"
        },
        "id": "JFut-nQA8WET",
        "outputId": "f4e35cbd-56f5-45f1-ab54-091e9f93fca0"
      },
      "execution_count": 3,
      "outputs": [
        {
          "output_type": "stream",
          "name": "stdout",
          "text": [
            "Requirement already satisfied: flask-ngrok in /usr/local/lib/python3.11/dist-packages (0.0.25)\n",
            "Requirement already satisfied: Flask>=0.8 in /usr/local/lib/python3.11/dist-packages (from flask-ngrok) (3.1.1)\n",
            "Requirement already satisfied: requests in /usr/local/lib/python3.11/dist-packages (from flask-ngrok) (2.32.3)\n",
            "Requirement already satisfied: blinker>=1.9.0 in /usr/local/lib/python3.11/dist-packages (from Flask>=0.8->flask-ngrok) (1.9.0)\n",
            "Requirement already satisfied: click>=8.1.3 in /usr/local/lib/python3.11/dist-packages (from Flask>=0.8->flask-ngrok) (8.2.1)\n",
            "Requirement already satisfied: itsdangerous>=2.2.0 in /usr/local/lib/python3.11/dist-packages (from Flask>=0.8->flask-ngrok) (2.2.0)\n",
            "Requirement already satisfied: jinja2>=3.1.2 in /usr/local/lib/python3.11/dist-packages (from Flask>=0.8->flask-ngrok) (3.1.6)\n",
            "Requirement already satisfied: markupsafe>=2.1.1 in /usr/local/lib/python3.11/dist-packages (from Flask>=0.8->flask-ngrok) (3.0.2)\n",
            "Requirement already satisfied: werkzeug>=3.1.0 in /usr/local/lib/python3.11/dist-packages (from Flask>=0.8->flask-ngrok) (3.1.3)\n",
            "Requirement already satisfied: charset-normalizer<4,>=2 in /usr/local/lib/python3.11/dist-packages (from requests->flask-ngrok) (3.4.2)\n",
            "Requirement already satisfied: idna<4,>=2.5 in /usr/local/lib/python3.11/dist-packages (from requests->flask-ngrok) (3.10)\n",
            "Requirement already satisfied: urllib3<3,>=1.21.1 in /usr/local/lib/python3.11/dist-packages (from requests->flask-ngrok) (2.5.0)\n",
            "Requirement already satisfied: certifi>=2017.4.17 in /usr/local/lib/python3.11/dist-packages (from requests->flask-ngrok) (2025.7.14)\n",
            " * Serving Flask app '__main__'\n",
            " * Debug mode: off\n"
          ]
        },
        {
          "output_type": "stream",
          "name": "stderr",
          "text": [
            "INFO:werkzeug:\u001b[31m\u001b[1mWARNING: This is a development server. Do not use it in a production deployment. Use a production WSGI server instead.\u001b[0m\n",
            " * Running on http://127.0.0.1:5000\n",
            "INFO:werkzeug:\u001b[33mPress CTRL+C to quit\u001b[0m\n",
            "Exception in thread Thread-10:\n",
            "Traceback (most recent call last):\n",
            "  File \"/usr/local/lib/python3.11/dist-packages/urllib3/connection.py\", line 198, in _new_conn\n",
            "    sock = connection.create_connection(\n",
            "           ^^^^^^^^^^^^^^^^^^^^^^^^^^^^^\n",
            "  File \"/usr/local/lib/python3.11/dist-packages/urllib3/util/connection.py\", line 85, in create_connection\n",
            "    raise err\n",
            "  File \"/usr/local/lib/python3.11/dist-packages/urllib3/util/connection.py\", line 73, in create_connection\n",
            "    sock.connect(sa)\n",
            "ConnectionRefusedError: [Errno 111] Connection refused\n",
            "\n",
            "The above exception was the direct cause of the following exception:\n",
            "\n",
            "Traceback (most recent call last):\n",
            "  File \"/usr/local/lib/python3.11/dist-packages/urllib3/connectionpool.py\", line 787, in urlopen\n",
            "    response = self._make_request(\n",
            "               ^^^^^^^^^^^^^^^^^^^\n",
            "  File \"/usr/local/lib/python3.11/dist-packages/urllib3/connectionpool.py\", line 493, in _make_request\n",
            "    conn.request(\n",
            "  File \"/usr/local/lib/python3.11/dist-packages/urllib3/connection.py\", line 494, in request\n",
            "    self.endheaders()\n",
            "  File \"/usr/lib/python3.11/http/client.py\", line 1298, in endheaders\n",
            "    self._send_output(message_body, encode_chunked=encode_chunked)\n",
            "  File \"/usr/lib/python3.11/http/client.py\", line 1058, in _send_output\n",
            "    self.send(msg)\n",
            "  File \"/usr/lib/python3.11/http/client.py\", line 996, in send\n",
            "    self.connect()\n",
            "  File \"/usr/local/lib/python3.11/dist-packages/urllib3/connection.py\", line 325, in connect\n",
            "    self.sock = self._new_conn()\n",
            "                ^^^^^^^^^^^^^^^^\n",
            "  File \"/usr/local/lib/python3.11/dist-packages/urllib3/connection.py\", line 213, in _new_conn\n",
            "    raise NewConnectionError(\n",
            "urllib3.exceptions.NewConnectionError: <urllib3.connection.HTTPConnection object at 0x7bae8f3b1610>: Failed to establish a new connection: [Errno 111] Connection refused\n",
            "\n",
            "The above exception was the direct cause of the following exception:\n",
            "\n",
            "Traceback (most recent call last):\n",
            "  File \"/usr/local/lib/python3.11/dist-packages/requests/adapters.py\", line 667, in send\n",
            "    resp = conn.urlopen(\n",
            "           ^^^^^^^^^^^^^\n",
            "  File \"/usr/local/lib/python3.11/dist-packages/urllib3/connectionpool.py\", line 841, in urlopen\n",
            "    retries = retries.increment(\n",
            "              ^^^^^^^^^^^^^^^^^^\n",
            "  File \"/usr/local/lib/python3.11/dist-packages/urllib3/util/retry.py\", line 519, in increment\n",
            "    raise MaxRetryError(_pool, url, reason) from reason  # type: ignore[arg-type]\n",
            "    ^^^^^^^^^^^^^^^^^^^^^^^^^^^^^^^^^^^^^^^^^^^^^^^^^^^\n",
            "urllib3.exceptions.MaxRetryError: HTTPConnectionPool(host='localhost', port=4040): Max retries exceeded with url: /api/tunnels (Caused by NewConnectionError('<urllib3.connection.HTTPConnection object at 0x7bae8f3b1610>: Failed to establish a new connection: [Errno 111] Connection refused'))\n",
            "\n",
            "During handling of the above exception, another exception occurred:\n",
            "\n",
            "Traceback (most recent call last):\n",
            "  File \"/usr/lib/python3.11/threading.py\", line 1045, in _bootstrap_inner\n",
            "    self.run()\n",
            "  File \"/usr/lib/python3.11/threading.py\", line 1401, in run\n",
            "    self.function(*self.args, **self.kwargs)\n",
            "  File \"/usr/local/lib/python3.11/dist-packages/flask_ngrok.py\", line 70, in start_ngrok\n",
            "    ngrok_address = _run_ngrok()\n",
            "                    ^^^^^^^^^^^^\n",
            "  File \"/usr/local/lib/python3.11/dist-packages/flask_ngrok.py\", line 35, in _run_ngrok\n",
            "    tunnel_url = requests.get(localhost_url).text  # Get the tunnel information\n",
            "                 ^^^^^^^^^^^^^^^^^^^^^^^^^^^\n",
            "  File \"/usr/local/lib/python3.11/dist-packages/requests/api.py\", line 73, in get\n",
            "    return request(\"get\", url, params=params, **kwargs)\n",
            "           ^^^^^^^^^^^^^^^^^^^^^^^^^^^^^^^^^^^^^^^^^^^^\n",
            "  File \"/usr/local/lib/python3.11/dist-packages/requests/api.py\", line 59, in request\n",
            "    return session.request(method=method, url=url, **kwargs)\n",
            "           ^^^^^^^^^^^^^^^^^^^^^^^^^^^^^^^^^^^^^^^^^^^^^^^^^\n",
            "  File \"/usr/local/lib/python3.11/dist-packages/requests/sessions.py\", line 589, in request\n",
            "    resp = self.send(prep, **send_kwargs)\n",
            "           ^^^^^^^^^^^^^^^^^^^^^^^^^^^^^^\n",
            "  File \"/usr/local/lib/python3.11/dist-packages/requests/sessions.py\", line 703, in send\n",
            "    r = adapter.send(request, **kwargs)\n",
            "        ^^^^^^^^^^^^^^^^^^^^^^^^^^^^^^^\n",
            "  File \"/usr/local/lib/python3.11/dist-packages/requests/adapters.py\", line 700, in send\n",
            "    raise ConnectionError(e, request=request)\n",
            "requests.exceptions.ConnectionError: HTTPConnectionPool(host='localhost', port=4040): Max retries exceeded with url: /api/tunnels (Caused by NewConnectionError('<urllib3.connection.HTTPConnection object at 0x7bae8f3b1610>: Failed to establish a new connection: [Errno 111] Connection refused'))\n"
          ]
        }
      ]
    }
  ],
  "metadata": {
    "colab": {
      "provenance": []
    },
    "kernelspec": {
      "display_name": "Python 3",
      "name": "python3"
    },
    "language_info": {
      "name": "python"
    }
  },
  "nbformat": 4,
  "nbformat_minor": 0
}